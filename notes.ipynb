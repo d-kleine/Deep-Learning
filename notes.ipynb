{
 "cells": [
  {
   "cell_type": "code",
   "execution_count": 1,
   "id": "e6067f11",
   "metadata": {},
   "outputs": [],
   "source": [
    "import numpy as np"
   ]
  },
  {
   "cell_type": "code",
   "execution_count": 2,
   "id": "1f821a37",
   "metadata": {},
   "outputs": [
    {
     "name": "stdout",
     "output_type": "stream",
     "text": [
      "[[ 0  6]\n",
      " [ 2  8]\n",
      " [ 4 10]]\n",
      "[[ 1  3  5]\n",
      " [ 7  9 11]]\n",
      "[[ 42  54  66]\n",
      " [ 58  78  98]\n",
      " [ 74 102 130]]\n"
     ]
    }
   ],
   "source": [
    "# matrix multiplication\n",
    "a = np.array([[0,6],[2,8],[4,10]])\n",
    "b = np.array([[1,3,5],[7,9,11]])\n",
    "print(a)\n",
    "print(b)\n",
    "print(np.dot(a,b))"
   ]
  },
  {
   "cell_type": "code",
   "execution_count": 3,
   "id": "40a3c40e",
   "metadata": {},
   "outputs": [
    {
     "name": "stdout",
     "output_type": "stream",
     "text": [
      "[[ 42  54  66]\n",
      " [ 58  78  98]\n",
      " [ 74 102 130]]\n"
     ]
    }
   ],
   "source": [
    "print(np.matmul(a,b))"
   ]
  },
  {
   "cell_type": "code",
   "execution_count": 4,
   "id": "c5b6a880",
   "metadata": {},
   "outputs": [],
   "source": [
    "# sigmoid activation function\n",
    "def sigmoid(x):\n",
    "    return 1 / (1 + np.exp(-x))"
   ]
  },
  {
   "cell_type": "code",
   "execution_count": 5,
   "id": "137119a1",
   "metadata": {},
   "outputs": [],
   "source": [
    "x1=1\n",
    "x2=1\n",
    "score = 4*x1 + 5*x2 - 9"
   ]
  },
  {
   "cell_type": "code",
   "execution_count": 6,
   "id": "07cf516a",
   "metadata": {},
   "outputs": [
    {
     "data": {
      "text/plain": [
       "0.5"
      ]
     },
     "execution_count": 6,
     "metadata": {},
     "output_type": "execute_result"
    }
   ],
   "source": [
    "sigmoid(score)"
   ]
  },
  {
   "cell_type": "code",
   "execution_count": 7,
   "id": "ae2487b5",
   "metadata": {},
   "outputs": [
    {
     "data": {
      "text/plain": [
       "0.8807970779778823"
      ]
     },
     "execution_count": 7,
     "metadata": {},
     "output_type": "execute_result"
    }
   ],
   "source": [
    "w1=3\n",
    "w2=5\n",
    "b=-2.2\n",
    "\n",
    "sigmoid(w1*0.4 + w2*0.6 + b)"
   ]
  },
  {
   "cell_type": "code",
   "execution_count": 8,
   "id": "286906a7",
   "metadata": {},
   "outputs": [
    {
     "data": {
      "text/plain": [
       "array([3, 9])"
      ]
     },
     "execution_count": 8,
     "metadata": {},
     "output_type": "execute_result"
    }
   ],
   "source": [
    "# eigenvector and eigenvalues\n",
    "A = np.array([[3, 0],[-9, 6]])\n",
    "x = np.array([1, 3])\n",
    "\n",
    "np.dot(A, x)"
   ]
  },
  {
   "cell_type": "code",
   "execution_count": 9,
   "id": "451d1f18",
   "metadata": {},
   "outputs": [
    {
     "data": {
      "text/plain": [
       "128"
      ]
     },
     "execution_count": 9,
     "metadata": {},
     "output_type": "execute_result"
    }
   ],
   "source": [
    "# picture size calculation\n",
    "#     W  = input volume\n",
    "#     K  = Kernel size\n",
    "#     P =  padding\n",
    "#     S = stride\n",
    "\n",
    "np.int_(((130-3+0)/1)+1)"
   ]
  },
  {
   "cell_type": "markdown",
   "id": "233da995",
   "metadata": {},
   "source": [
    "$[(W−K+2*P)/S]+1$"
   ]
  },
  {
   "cell_type": "code",
   "execution_count": 10,
   "id": "2212f50a",
   "metadata": {},
   "outputs": [
    {
     "name": "stdout",
     "output_type": "stream",
     "text": [
      "0\n"
     ]
    }
   ],
   "source": [
    "# calculating padding that has kernel_size of 7 for CNN that is the same x-y size as an input array\n",
    "# see above equation; using P = 3\n",
    "x = (-7 + 2*3/1) + 1 # results in zero; W - 0 = W\n",
    "print(np.int_(x))"
   ]
  },
  {
   "cell_type": "code",
   "execution_count": 11,
   "id": "f54a70b4",
   "metadata": {},
   "outputs": [
    {
     "data": {
      "text/plain": [
       "True"
      ]
     },
     "execution_count": 11,
     "metadata": {},
     "output_type": "execute_result"
    }
   ],
   "source": [
    "from sympy import Symbol\n",
    "\n",
    "Symbol('w') + x == Symbol('w') # W = W; CNN has same x-y size as input array"
   ]
  },
  {
   "cell_type": "code",
   "execution_count": 12,
   "id": "7dd3b172",
   "metadata": {},
   "outputs": [],
   "source": [
    "# nlp: Subsampling equation\n",
    "# text with 1 million words in it\n",
    "# word \"learn\" appears 700 times in this text\n",
    "# threshold is 0.0001"
   ]
  },
  {
   "cell_type": "markdown",
   "id": "07edb5d7",
   "metadata": {},
   "source": [
    "$p = 1 - \\sqrt{\\frac{t}{f(x_[i])}}$"
   ]
  },
  {
   "cell_type": "code",
   "execution_count": 13,
   "id": "7748861d",
   "metadata": {},
   "outputs": [],
   "source": [
    "# -> calculate probability that we will discard the word \"learn\"\n",
    "f = 700\n",
    "w_i = 1e6\n",
    "t = 1e-4"
   ]
  },
  {
   "cell_type": "code",
   "execution_count": 14,
   "id": "d49b83bd",
   "metadata": {},
   "outputs": [
    {
     "name": "stdout",
     "output_type": "stream",
     "text": [
      "0.6220355269907727\n"
     ]
    }
   ],
   "source": [
    "p = 1 - np.sqrt(t/(f/w_i))\n",
    "print(p)"
   ]
  },
  {
   "cell_type": "code",
   "execution_count": 15,
   "id": "c0f1d862",
   "metadata": {},
   "outputs": [],
   "source": [
    "# For an input [23, 702, 89, 15, 99] and R=2, what will the returned context be if we pass in the token at idx=1 (702)?\n",
    "def get_target(words, idx, R):\n",
    "    start = idx - R if (idx - R) > 0 else 0\n",
    "    stop = idx + R\n",
    "    target_words = words[start:idx] + words[idx+1:stop+1]\n",
    "    \n",
    "    return list(target_words)"
   ]
  },
  {
   "cell_type": "code",
   "execution_count": 16,
   "id": "71481e43",
   "metadata": {},
   "outputs": [
    {
     "name": "stdout",
     "output_type": "stream",
     "text": [
      "[23, 89, 15]\n"
     ]
    }
   ],
   "source": [
    "print(get_target(words=[23, 702, 89, 15, 99], idx=1, R=2))"
   ]
  }
 ],
 "metadata": {
  "kernelspec": {
   "display_name": "Python 3 (ipykernel)",
   "language": "python",
   "name": "python3"
  },
  "language_info": {
   "codemirror_mode": {
    "name": "ipython",
    "version": 3
   },
   "file_extension": ".py",
   "mimetype": "text/x-python",
   "name": "python",
   "nbconvert_exporter": "python",
   "pygments_lexer": "ipython3",
   "version": "3.8.12"
  }
 },
 "nbformat": 4,
 "nbformat_minor": 5
}
