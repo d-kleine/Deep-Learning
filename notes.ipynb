{
 "cells": [
  {
   "cell_type": "code",
   "execution_count": 1,
   "id": "e6067f11",
   "metadata": {},
   "outputs": [],
   "source": [
    "import numpy as np"
   ]
  },
  {
   "cell_type": "code",
   "execution_count": 2,
   "id": "1f821a37",
   "metadata": {},
   "outputs": [
    {
     "name": "stdout",
     "output_type": "stream",
     "text": [
      "[[ 0  6]\n",
      " [ 2  8]\n",
      " [ 4 10]]\n",
      "[[ 1  3  5]\n",
      " [ 7  9 11]]\n",
      "[[ 42  54  66]\n",
      " [ 58  78  98]\n",
      " [ 74 102 130]]\n"
     ]
    }
   ],
   "source": [
    "# matrix multiplication\n",
    "a = np.array([[0,6],[2,8],[4,10]])\n",
    "b = np.array([[1,3,5],[7,9,11]])\n",
    "print(a)\n",
    "print(b)\n",
    "print(np.dot(a,b))"
   ]
  },
  {
   "cell_type": "code",
   "execution_count": 3,
   "id": "40a3c40e",
   "metadata": {},
   "outputs": [
    {
     "name": "stdout",
     "output_type": "stream",
     "text": [
      "[[ 42  54  66]\n",
      " [ 58  78  98]\n",
      " [ 74 102 130]]\n"
     ]
    }
   ],
   "source": [
    "print(np.matmul(a,b))"
   ]
  },
  {
   "cell_type": "code",
   "execution_count": 4,
   "id": "c5b6a880",
   "metadata": {},
   "outputs": [],
   "source": [
    "# sigmoid activation function\n",
    "def sigmoid(x):\n",
    "    return 1 / (1 + np.exp(-x))"
   ]
  },
  {
   "cell_type": "code",
   "execution_count": 5,
   "id": "137119a1",
   "metadata": {},
   "outputs": [],
   "source": [
    "x1=1\n",
    "x2=1\n",
    "score = 4*x1 + 5*x2 - 9"
   ]
  },
  {
   "cell_type": "code",
   "execution_count": 6,
   "id": "07cf516a",
   "metadata": {},
   "outputs": [
    {
     "data": {
      "text/plain": [
       "0.5"
      ]
     },
     "execution_count": 6,
     "metadata": {},
     "output_type": "execute_result"
    }
   ],
   "source": [
    "sigmoid(score)"
   ]
  },
  {
   "cell_type": "code",
   "execution_count": 7,
   "id": "ae2487b5",
   "metadata": {},
   "outputs": [
    {
     "data": {
      "text/plain": [
       "0.8807970779778823"
      ]
     },
     "execution_count": 7,
     "metadata": {},
     "output_type": "execute_result"
    }
   ],
   "source": [
    "w1=3\n",
    "w2=5\n",
    "b=-2.2\n",
    "\n",
    "sigmoid(w1*0.4 + w2*0.6 + b)"
   ]
  },
  {
   "cell_type": "code",
   "execution_count": 8,
   "id": "286906a7",
   "metadata": {},
   "outputs": [
    {
     "data": {
      "text/plain": [
       "array([3, 9])"
      ]
     },
     "execution_count": 8,
     "metadata": {},
     "output_type": "execute_result"
    }
   ],
   "source": [
    "# eigenvector and eigenvalues\n",
    "A = np.array([[3, 0],[-9, 6]])\n",
    "x = np.array([1, 3])\n",
    "\n",
    "np.dot(A, x)"
   ]
  },
  {
   "cell_type": "code",
   "execution_count": null,
   "id": "451d1f18",
   "metadata": {},
   "outputs": [],
   "source": [
    "# picture size calculation\n",
    "# [(W−K+2P)/S]+1\n",
    "#     W  = input volume\n",
    "#     K  = Kernel size (dimensions)\n",
    "#     P =  padding\n",
    "#     S = stride (step lenght)\n",
    "\n",
    "(130-3+0)/1+1"
   ]
  }
 ],
 "metadata": {
  "kernelspec": {
   "display_name": "Python 3 (ipykernel)",
   "language": "python",
   "name": "python3"
  },
  "language_info": {
   "codemirror_mode": {
    "name": "ipython",
    "version": 3
   },
   "file_extension": ".py",
   "mimetype": "text/x-python",
   "name": "python",
   "nbconvert_exporter": "python",
   "pygments_lexer": "ipython3",
   "version": "3.9.7"
  }
 },
 "nbformat": 4,
 "nbformat_minor": 5
}
